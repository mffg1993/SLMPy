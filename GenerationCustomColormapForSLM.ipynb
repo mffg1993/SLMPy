{
  "nbformat": 4,
  "nbformat_minor": 0,
  "metadata": {
    "colab": {
      "provenance": [],
      "authorship_tag": "ABX9TyOEn5+mmf+WHUWdajJ2KLTW",
      "include_colab_link": true
    },
    "kernelspec": {
      "name": "python3",
      "display_name": "Python 3"
    },
    "language_info": {
      "name": "python"
    }
  },
  "cells": [
    {
      "cell_type": "markdown",
      "metadata": {
        "id": "view-in-github",
        "colab_type": "text"
      },
      "source": [
        "<a href=\"https://colab.research.google.com/github/mffg1993/SLMPy/blob/main/GenerationCustomColormapForSLM.ipynb\" target=\"_parent\"><img src=\"https://colab.research.google.com/assets/colab-badge.svg\" alt=\"Open In Colab\"/></a>"
      ]
    },
    {
      "cell_type": "markdown",
      "source": [
        "# Managing Custom Colormaps for SLM maps\n"
      ],
      "metadata": {
        "id": "yen0v8FfVYJD"
      }
    },
    {
      "cell_type": "markdown",
      "source": [
        "## Generation of custom colormaps\n",
        "\n"
      ],
      "metadata": {
        "id": "MpzxJzNAU1pG"
      }
    },
    {
      "cell_type": "code",
      "source": [
        "import numpy as np\n",
        "from matplotlib.colors import LinearSegmentedColormap\n",
        "\n",
        "# Define the resolution of the colormap\n",
        "num_colors = 256\n",
        "\n",
        "# Generate input values from -1 to 1\n",
        "i_vals = np.linspace(-1, 1, num_colors)\n",
        "\n",
        "# Define the colormap function for THORLABS 780NM\n",
        "Thorlabs_values = np.abs(123 + 69.5 * i_vals - 29.8 * i_vals**2 + 19.5 * i_vals**3) / 255\n",
        "\n",
        "# Define the colormap function for PLuto 405NM\n",
        "Pluto_values = np.abs(33.1 + 51.7 * i_vals - 2.57 * i_vals**2 - 14.3 * i_vals**3 +\n",
        "                      16.7 * i_vals**4 + 5.81 * i_vals**5 - 4.02 * i_vals**6) / 255  # Normalize to 0-1 range\n",
        "\n",
        "# Ensure the shape is (256, 3) for an RGB colormap (only modifying the green channel)\n",
        "custom_Thorlabs_cmap_data = np.zeros((num_colors, 3))\n",
        "custom_Thorlabs_cmap_data[:, 1] = Thorlabs_values  # Only modifying the green channel\n",
        "\n",
        "custom_Pluto_cmap_data = np.zeros((num_colors, 3))\n",
        "custom_Pluto_cmap_data[:, 1] = Pluto_values  # Only modifying the green channel\n",
        "\n",
        "# Create the colormap\n",
        "Thorlabs_cmap = LinearSegmentedColormap.from_list(\"Thorlabs\", custom_Thorlabs_cmap_data)\n",
        "Pluto_cmap = LinearSegmentedColormap.from_list(\"Pluto\", custom_Pluto_cmap_data)\n",
        "\n",
        "# Save the custom colormaps to text files (formatted correctly)\n",
        "np.savetxt(\"ThorlabsC.cmap\", custom_Thorlabs_cmap_data, fmt=\"%.6f\", delimiter=\" \")\n",
        "np.savetxt(\"PlutoC.cmap\", custom_Pluto_cmap_data, fmt=\"%.6f\", delimiter=\" \")\n"
      ],
      "metadata": {
        "id": "IjoBDh0WU0Kg"
      },
      "execution_count": 3,
      "outputs": []
    },
    {
      "cell_type": "markdown",
      "source": [
        "# Importing the custom Colormaps in the a folder\n",
        ""
      ],
      "metadata": {
        "id": "8DTYCbPYVCIQ"
      }
    },
    {
      "cell_type": "code",
      "source": [
        "import os\n",
        "import numpy as np\n",
        "from matplotlib.colors import LinearSegmentedColormap\n",
        "\n",
        "# Get the directory where this script is located\n",
        "script_dir = os.path.dirname(os.path.abspath(__file__))  # Ensure saving in the same folder as the script\n",
        "\n",
        "# Get the full path of the colormap subfolder\n",
        "subfolder_path = os.path.join(script_dir, \"Cmaps\")\n",
        "\n",
        "# Get all colormap files in the subfolder (assuming they end with .cmap)\n",
        "cmap_files = [f for f in os.listdir(subfolder_path) if f.endswith(\".cmap\")]\n",
        "\n",
        "# Dictionary to store the colormaps\n",
        "Cmap_Dict = {}\n",
        "\n",
        "# Load each colormap file and add it to the dictionary\n",
        "for cmap_file in cmap_files:\n",
        "    cmap_name = os.path.splitext(cmap_file)[0]  # Remove the .cmap extension\n",
        "    cmap_path = os.path.join(subfolder_path, cmap_file)  # Full file path\n",
        "\n",
        "    # Load colormap data from file\n",
        "    cmap_data = np.loadtxt(cmap_path)\n",
        "\n",
        "    # Convert to LinearSegmentedColormap and store in the dictionary\n",
        "    Cmap_Dict[cmap_name] = LinearSegmentedColormap.from_list(cmap_name, cmap_data)\n",
        "\n",
        "# Print to verify\n",
        "print(\"Loaded colormaps:\", Cmap_Dict.keys())"
      ],
      "metadata": {
        "id": "TFsRZVu-UwSX"
      },
      "execution_count": null,
      "outputs": []
    }
  ]
}